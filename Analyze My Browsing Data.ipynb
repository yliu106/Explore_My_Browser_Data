{
 "cells": [
  {
   "cell_type": "markdown",
   "id": "692d2178",
   "metadata": {},
   "source": [
    "This is a project reproduced from a post on Medium [Here](https://medium.com/free-code-camp/understanding-my-browsing-pattern-using-pandas-and-seaborn-162b97e33e51)\n",
    "\n",
    "I used the [Google takeout](https://takeout.google.com/) to export my browsing history data.\n",
    "\n",
    "#### Step 1: Loading raw data:"
   ]
  },
  {
   "cell_type": "code",
   "execution_count": 1,
   "id": "beebeb1b",
   "metadata": {},
   "outputs": [],
   "source": [
    "import json\n",
    "import datetime\n",
    "import pandas as pd\n",
    "with open(r\"C:\\Users\\liuyu\\OneDrive\\Kaggle Projects\\Browsing Data\\takeout-20210412T222313Z-001\\Takeout\\Chrome\\BrowserHistory.json\", encoding = 'UTF-8') as f:\n",
    "    data = json.loads(f.read())\n",
    "    df = pd.DataFrame(data[\"Browser History\"])"
   ]
  },
  {
   "cell_type": "code",
   "execution_count": 2,
   "id": "889f993c",
   "metadata": {},
   "outputs": [
    {
     "data": {
      "text/html": [
       "<div>\n",
       "<style scoped>\n",
       "    .dataframe tbody tr th:only-of-type {\n",
       "        vertical-align: middle;\n",
       "    }\n",
       "\n",
       "    .dataframe tbody tr th {\n",
       "        vertical-align: top;\n",
       "    }\n",
       "\n",
       "    .dataframe thead th {\n",
       "        text-align: right;\n",
       "    }\n",
       "</style>\n",
       "<table border=\"1\" class=\"dataframe\">\n",
       "  <thead>\n",
       "    <tr style=\"text-align: right;\">\n",
       "      <th></th>\n",
       "      <th>favicon_url</th>\n",
       "      <th>page_transition</th>\n",
       "      <th>title</th>\n",
       "      <th>url</th>\n",
       "      <th>client_id</th>\n",
       "      <th>time_usec</th>\n",
       "    </tr>\n",
       "  </thead>\n",
       "  <tbody>\n",
       "    <tr>\n",
       "      <th>0</th>\n",
       "      <td>https://www.google.com/favicon.ico</td>\n",
       "      <td>LINK</td>\n",
       "      <td>Google Takeout</td>\n",
       "      <td>https://takeout.google.com/?pli=1</td>\n",
       "      <td>46BWj3XXPZpkqnQqI50hzw==</td>\n",
       "      <td>1618266135904854</td>\n",
       "    </tr>\n",
       "    <tr>\n",
       "      <th>1</th>\n",
       "      <td>https://www.google.com/favicon.ico</td>\n",
       "      <td>LINK</td>\n",
       "      <td>Google Takeout</td>\n",
       "      <td>https://takeout.google.com/?pli=1</td>\n",
       "      <td>46BWj3XXPZpkqnQqI50hzw==</td>\n",
       "      <td>1618266132374504</td>\n",
       "    </tr>\n",
       "    <tr>\n",
       "      <th>2</th>\n",
       "      <td>https://www.google.com/favicon.ico</td>\n",
       "      <td>LINK</td>\n",
       "      <td>Google Takeout</td>\n",
       "      <td>https://takeout.google.com/?pli=1</td>\n",
       "      <td>46BWj3XXPZpkqnQqI50hzw==</td>\n",
       "      <td>1618266098789958</td>\n",
       "    </tr>\n",
       "    <tr>\n",
       "      <th>3</th>\n",
       "      <td>https://github.githubassets.com/favicons/favic...</td>\n",
       "      <td>LINK</td>\n",
       "      <td>john-kurkowski/tldextract: Accurately separate...</td>\n",
       "      <td>https://github.com/john-kurkowski/tldextract</td>\n",
       "      <td>46BWj3XXPZpkqnQqI50hzw==</td>\n",
       "      <td>1618266026629624</td>\n",
       "    </tr>\n",
       "    <tr>\n",
       "      <th>4</th>\n",
       "      <td>https://www.youtube.com/s/desktop/07288e99/img...</td>\n",
       "      <td>LINK</td>\n",
       "      <td>(2) 5 HOUR STUDY WITH ME | Background noise, B...</td>\n",
       "      <td>https://www.youtube.com/watch?v=ARTIdxZrUJ4&amp;ab...</td>\n",
       "      <td>46BWj3XXPZpkqnQqI50hzw==</td>\n",
       "      <td>1618265577446424</td>\n",
       "    </tr>\n",
       "  </tbody>\n",
       "</table>\n",
       "</div>"
      ],
      "text/plain": [
       "                                         favicon_url page_transition  \\\n",
       "0                 https://www.google.com/favicon.ico            LINK   \n",
       "1                 https://www.google.com/favicon.ico            LINK   \n",
       "2                 https://www.google.com/favicon.ico            LINK   \n",
       "3  https://github.githubassets.com/favicons/favic...            LINK   \n",
       "4  https://www.youtube.com/s/desktop/07288e99/img...            LINK   \n",
       "\n",
       "                                               title  \\\n",
       "0                                     Google Takeout   \n",
       "1                                     Google Takeout   \n",
       "2                                     Google Takeout   \n",
       "3  john-kurkowski/tldextract: Accurately separate...   \n",
       "4  (2) 5 HOUR STUDY WITH ME | Background noise, B...   \n",
       "\n",
       "                                                 url  \\\n",
       "0                  https://takeout.google.com/?pli=1   \n",
       "1                  https://takeout.google.com/?pli=1   \n",
       "2                  https://takeout.google.com/?pli=1   \n",
       "3       https://github.com/john-kurkowski/tldextract   \n",
       "4  https://www.youtube.com/watch?v=ARTIdxZrUJ4&ab...   \n",
       "\n",
       "                  client_id         time_usec  \n",
       "0  46BWj3XXPZpkqnQqI50hzw==  1618266135904854  \n",
       "1  46BWj3XXPZpkqnQqI50hzw==  1618266132374504  \n",
       "2  46BWj3XXPZpkqnQqI50hzw==  1618266098789958  \n",
       "3  46BWj3XXPZpkqnQqI50hzw==  1618266026629624  \n",
       "4  46BWj3XXPZpkqnQqI50hzw==  1618265577446424  "
      ]
     },
     "execution_count": 2,
     "metadata": {},
     "output_type": "execute_result"
    }
   ],
   "source": [
    "df.head()"
   ]
  },
  {
   "cell_type": "code",
   "execution_count": 3,
   "id": "e1f290be",
   "metadata": {
    "collapsed": true
   },
   "outputs": [
    {
     "data": {
      "text/html": [
       "<div>\n",
       "<style scoped>\n",
       "    .dataframe tbody tr th:only-of-type {\n",
       "        vertical-align: middle;\n",
       "    }\n",
       "\n",
       "    .dataframe tbody tr th {\n",
       "        vertical-align: top;\n",
       "    }\n",
       "\n",
       "    .dataframe thead th {\n",
       "        text-align: right;\n",
       "    }\n",
       "</style>\n",
       "<table border=\"1\" class=\"dataframe\">\n",
       "  <thead>\n",
       "    <tr style=\"text-align: right;\">\n",
       "      <th></th>\n",
       "      <th>page_transition</th>\n",
       "      <th>title</th>\n",
       "      <th>url</th>\n",
       "      <th>time_usec</th>\n",
       "    </tr>\n",
       "  </thead>\n",
       "  <tbody>\n",
       "    <tr>\n",
       "      <th>0</th>\n",
       "      <td>LINK</td>\n",
       "      <td>Google Takeout</td>\n",
       "      <td>https://takeout.google.com/?pli=1</td>\n",
       "      <td>1618266135904854</td>\n",
       "    </tr>\n",
       "    <tr>\n",
       "      <th>1</th>\n",
       "      <td>LINK</td>\n",
       "      <td>Google Takeout</td>\n",
       "      <td>https://takeout.google.com/?pli=1</td>\n",
       "      <td>1618266132374504</td>\n",
       "    </tr>\n",
       "    <tr>\n",
       "      <th>2</th>\n",
       "      <td>LINK</td>\n",
       "      <td>Google Takeout</td>\n",
       "      <td>https://takeout.google.com/?pli=1</td>\n",
       "      <td>1618266098789958</td>\n",
       "    </tr>\n",
       "    <tr>\n",
       "      <th>3</th>\n",
       "      <td>LINK</td>\n",
       "      <td>john-kurkowski/tldextract: Accurately separate...</td>\n",
       "      <td>https://github.com/john-kurkowski/tldextract</td>\n",
       "      <td>1618266026629624</td>\n",
       "    </tr>\n",
       "    <tr>\n",
       "      <th>4</th>\n",
       "      <td>LINK</td>\n",
       "      <td>(2) 5 HOUR STUDY WITH ME | Background noise, B...</td>\n",
       "      <td>https://www.youtube.com/watch?v=ARTIdxZrUJ4&amp;ab...</td>\n",
       "      <td>1618265577446424</td>\n",
       "    </tr>\n",
       "    <tr>\n",
       "      <th>...</th>\n",
       "      <td>...</td>\n",
       "      <td>...</td>\n",
       "      <td>...</td>\n",
       "      <td>...</td>\n",
       "    </tr>\n",
       "    <tr>\n",
       "      <th>34333</th>\n",
       "      <td>LINK</td>\n",
       "      <td>Facecheck -</td>\n",
       "      <td>https://go.overwolf.com/facecheck-bfb/?utm_sou...</td>\n",
       "      <td>1586734112184739</td>\n",
       "    </tr>\n",
       "    <tr>\n",
       "      <th>34334</th>\n",
       "      <td>LINK</td>\n",
       "      <td>Beluga Whale Has A Crush On A Cute Zookeeper |...</td>\n",
       "      <td>https://www.youtube.com/watch?v=PG-q9avfxrc</td>\n",
       "      <td>1586734078463293</td>\n",
       "    </tr>\n",
       "    <tr>\n",
       "      <th>34335</th>\n",
       "      <td>LINK</td>\n",
       "      <td>YouTube</td>\n",
       "      <td>https://www.youtube.com/</td>\n",
       "      <td>1586734025076493</td>\n",
       "    </tr>\n",
       "    <tr>\n",
       "      <th>34336</th>\n",
       "      <td>LINK</td>\n",
       "      <td>Meet My 2 NEW Pomeranian Puppies! 🐶 - YouTube</td>\n",
       "      <td>https://www.youtube.com/watch?v=QhbR5TEAMco</td>\n",
       "      <td>1586733920359498</td>\n",
       "    </tr>\n",
       "    <tr>\n",
       "      <th>34337</th>\n",
       "      <td>LINK</td>\n",
       "      <td>YouTube</td>\n",
       "      <td>https://www.youtube.com/</td>\n",
       "      <td>1586733870348107</td>\n",
       "    </tr>\n",
       "  </tbody>\n",
       "</table>\n",
       "<p>34338 rows × 4 columns</p>\n",
       "</div>"
      ],
      "text/plain": [
       "      page_transition                                              title  \\\n",
       "0                LINK                                     Google Takeout   \n",
       "1                LINK                                     Google Takeout   \n",
       "2                LINK                                     Google Takeout   \n",
       "3                LINK  john-kurkowski/tldextract: Accurately separate...   \n",
       "4                LINK  (2) 5 HOUR STUDY WITH ME | Background noise, B...   \n",
       "...               ...                                                ...   \n",
       "34333            LINK                                        Facecheck -   \n",
       "34334            LINK  Beluga Whale Has A Crush On A Cute Zookeeper |...   \n",
       "34335            LINK                                            YouTube   \n",
       "34336            LINK      Meet My 2 NEW Pomeranian Puppies! 🐶 - YouTube   \n",
       "34337            LINK                                            YouTube   \n",
       "\n",
       "                                                     url         time_usec  \n",
       "0                      https://takeout.google.com/?pli=1  1618266135904854  \n",
       "1                      https://takeout.google.com/?pli=1  1618266132374504  \n",
       "2                      https://takeout.google.com/?pli=1  1618266098789958  \n",
       "3           https://github.com/john-kurkowski/tldextract  1618266026629624  \n",
       "4      https://www.youtube.com/watch?v=ARTIdxZrUJ4&ab...  1618265577446424  \n",
       "...                                                  ...               ...  \n",
       "34333  https://go.overwolf.com/facecheck-bfb/?utm_sou...  1586734112184739  \n",
       "34334        https://www.youtube.com/watch?v=PG-q9avfxrc  1586734078463293  \n",
       "34335                           https://www.youtube.com/  1586734025076493  \n",
       "34336        https://www.youtube.com/watch?v=QhbR5TEAMco  1586733920359498  \n",
       "34337                           https://www.youtube.com/  1586733870348107  \n",
       "\n",
       "[34338 rows x 4 columns]"
      ]
     },
     "execution_count": 3,
     "metadata": {},
     "output_type": "execute_result"
    }
   ],
   "source": [
    "df.drop(columns = ['client_id', 'favicon_url'])"
   ]
  },
  {
   "cell_type": "code",
   "execution_count": 4,
   "id": "ff517c3f",
   "metadata": {},
   "outputs": [],
   "source": [
    "def convert_time(x):\n",
    "    return datetime.datetime.fromtimestamp(x/1000000)\n",
    "\n",
    "df['Date'] = df['time_usec'].apply(convert_time)"
   ]
  },
  {
   "cell_type": "code",
   "execution_count": 5,
   "id": "564a2194",
   "metadata": {},
   "outputs": [],
   "source": [
    "import tldextract\n",
    "def get_domain(x):\n",
    "    result = tldextract.extract(x)\n",
    "    sub_domain = result[0]\n",
    "    domain = result[1]\n",
    "    if sub_domain == \"mail\":\n",
    "        return sub_domain + \".\" + domain\n",
    "    # Ugly hack to differentiate b/w drive.google.com and google.com\n",
    "    if domain == \"google\" and sub_domain==\"www\":\n",
    "        return \"google_search\" \n",
    "    return domain\n",
    "\n",
    "df['Domain'] = df['url'].apply(get_domain)"
   ]
  },
  {
   "cell_type": "code",
   "execution_count": 7,
   "id": "032c8ac8",
   "metadata": {},
   "outputs": [
    {
     "data": {
      "text/plain": [
       "youtube             0.231056\n",
       "google_search       0.101433\n",
       "amazon              0.061477\n",
       "newtab              0.055099\n",
       "mail.google         0.042518\n",
       "                      ...   \n",
       "goodhousekeeping    0.000029\n",
       "pensachi            0.000029\n",
       "cybercoders         0.000029\n",
       "gk100               0.000029\n",
       "nyc                 0.000029\n",
       "Name: Domain, Length: 968, dtype: float64"
      ]
     },
     "execution_count": 7,
     "metadata": {},
     "output_type": "execute_result"
    }
   ],
   "source": [
    "df[\"Domain\"].value_counts(normalize = True)"
   ]
  },
  {
   "cell_type": "code",
   "execution_count": 8,
   "id": "06e1a19c",
   "metadata": {},
   "outputs": [
    {
     "data": {
      "text/plain": [
       "Index(['youtube', 'google_search', 'amazon', 'newtab', 'mail.google',\n",
       "       'linkedin', 'instacart', 'google', 'mfa', 'dealmoon'],\n",
       "      dtype='object')"
      ]
     },
     "execution_count": 8,
     "metadata": {},
     "output_type": "execute_result"
    }
   ],
   "source": [
    "top_10_domain = df[\"Domain\"].value_counts(normalize = True).sort_values(ascending = False).iloc[:10]\n",
    "last_10_domain = df[\"Domain\"].value_counts(normalize = True).sort_values(ascending = True).iloc[:10]\n",
    "top_10_domain.index"
   ]
  },
  {
   "cell_type": "code",
   "execution_count": 9,
   "id": "58bb7fbf",
   "metadata": {},
   "outputs": [
    {
     "data": {
      "text/plain": [
       "youtube          0.231056\n",
       "google_search    0.101433\n",
       "amazon           0.061477\n",
       "newtab           0.055099\n",
       "mail.google      0.042518\n",
       "linkedin         0.034947\n",
       "instacart        0.031306\n",
       "google           0.018464\n",
       "mfa              0.017677\n",
       "dealmoon         0.015347\n",
       "Name: Domain, dtype: float64"
      ]
     },
     "execution_count": 9,
     "metadata": {},
     "output_type": "execute_result"
    }
   ],
   "source": [
    "top_10_domain"
   ]
  },
  {
   "cell_type": "code",
   "execution_count": 10,
   "id": "60fb2aa7",
   "metadata": {},
   "outputs": [
    {
     "data": {
      "text/plain": [
       "Text(0, 0.5, 'Percentage')"
      ]
     },
     "execution_count": 10,
     "metadata": {},
     "output_type": "execute_result"
    },
    {
     "data": {
      "image/png": "[encoded data removed]",
      "text/plain": [
       "<Figure size 1440x720 with 1 Axes>"
      ]
     },
     "metadata": {
      "needs_background": "light"
     },
     "output_type": "display_data"
    }
   ],
   "source": [
    "import matplotlib.pyplot as plt\n",
    "plt.figure(figsize=(20,10))\n",
    "plot = plt.bar(top_10_domain.index, top_10_domain, align='center', alpha=0.5)\n",
    "for value in plot:\n",
    "    height = value.get_height()\n",
    "    plt.text(value.get_x() + value.get_width()/2.,\n",
    "             1.002*height, \"{0:.0%}\".format(height), ha='center', va='bottom')\n",
    "plt.title(\"10 Most Frequently Used Domain\")\n",
    "plt.xlabel(\"Domain\")\n",
    "plt.ylabel(\"Percentage\")"
   ]
  },
  {
   "cell_type": "markdown",
   "id": "f03ce0c2",
   "metadata": {},
   "source": [
    "I was wondering what are those `\"mfa\"` domains, so I selected those data and looked at the titles."
   ]
  },
  {
   "cell_type": "code",
   "execution_count": 11,
   "id": "d9e06e95",
   "metadata": {},
   "outputs": [
    {
     "data": {
      "text/plain": [
       "海外申请护照在线预约        0.947282\n",
       "预约窗口              0.029654\n",
       "预约信息确认            0.006590\n",
       "照片规格说明            0.004942\n",
       "海外申请护照在线预约系统      0.004942\n",
       "中国领事服务网           0.003295\n",
       "出国及海外中国公民自愿登记     0.001647\n",
       "在美遭遇电信诈骗应如何处理？    0.001647\n",
       "Name: title, dtype: float64"
      ]
     },
     "execution_count": 11,
     "metadata": {},
     "output_type": "execute_result"
    }
   ],
   "source": [
    "df[df[\"Domain\"] == 'mfa'][\"title\"].value_counts(normalize = True)"
   ]
  },
  {
   "cell_type": "markdown",
   "id": "6c115235",
   "metadata": {},
   "source": [
    "Looks like they are websites for my passport renewal..."
   ]
  },
  {
   "cell_type": "markdown",
   "id": "856c71eb",
   "metadata": {},
   "source": [
    "### Investigate `\"page_transition\"` column"
   ]
  },
  {
   "cell_type": "code",
   "execution_count": 12,
   "id": "7067c3a8",
   "metadata": {},
   "outputs": [],
   "source": [
    "page_transition_dist = df[\"page_transition\"].value_counts(normalize = True)"
   ]
  },
  {
   "cell_type": "code",
   "execution_count": 13,
   "id": "2bbe20d0",
   "metadata": {},
   "outputs": [
    {
     "data": {
      "text/plain": [
       "<AxesSubplot:ylabel='page_transition'>"
      ]
     },
     "execution_count": 13,
     "metadata": {},
     "output_type": "execute_result"
    },
    {
     "data": {
      "image/png": "[encoded data removed]",
      "text/plain": [
       "<Figure size 360x360 with 1 Axes>"
      ]
     },
     "metadata": {},
     "output_type": "display_data"
    }
   ],
   "source": [
    "page_transition_dist.plot.pie(figsize=(5, 5))"
   ]
  },
  {
   "cell_type": "markdown",
   "id": "47caa7e7",
   "metadata": {},
   "source": [
    "Now that I know most of my web pages are opened by `\"LINK\"` (clicking through links), I want to see within each domain, does overall trend still be consistent?"
   ]
  },
  {
   "cell_type": "code",
   "execution_count": 14,
   "id": "f9d2a5cd",
   "metadata": {},
   "outputs": [],
   "source": [
    "cols = top_10_domain.index\n",
    "stacked_bar = pd.DataFrame(index=page_transition_dist.index, columns = cols)"
   ]
  },
  {
   "cell_type": "code",
   "execution_count": 15,
   "id": "9ed7529e",
   "metadata": {},
   "outputs": [],
   "source": [
    "for c in stacked_bar.columns:\n",
    "    stacked_bar[c] = df[df[\"Domain\"] == c]['page_transition'].value_counts()"
   ]
  },
  {
   "cell_type": "code",
   "execution_count": 16,
   "id": "d4666722",
   "metadata": {},
   "outputs": [
    {
     "data": {
      "text/html": [
       "<div>\n",
       "<style scoped>\n",
       "    .dataframe tbody tr th:only-of-type {\n",
       "        vertical-align: middle;\n",
       "    }\n",
       "\n",
       "    .dataframe tbody tr th {\n",
       "        vertical-align: top;\n",
       "    }\n",
       "\n",
       "    .dataframe thead th {\n",
       "        text-align: right;\n",
       "    }\n",
       "</style>\n",
       "<table border=\"1\" class=\"dataframe\">\n",
       "  <thead>\n",
       "    <tr style=\"text-align: right;\">\n",
       "      <th></th>\n",
       "      <th>youtube</th>\n",
       "      <th>google_search</th>\n",
       "      <th>amazon</th>\n",
       "      <th>newtab</th>\n",
       "      <th>mail.google</th>\n",
       "      <th>linkedin</th>\n",
       "      <th>instacart</th>\n",
       "      <th>google</th>\n",
       "      <th>mfa</th>\n",
       "      <th>dealmoon</th>\n",
       "    </tr>\n",
       "  </thead>\n",
       "  <tbody>\n",
       "    <tr>\n",
       "      <th>LINK</th>\n",
       "      <td>6359.0</td>\n",
       "      <td>468.0</td>\n",
       "      <td>1591.0</td>\n",
       "      <td>NaN</td>\n",
       "      <td>1097.0</td>\n",
       "      <td>1120.0</td>\n",
       "      <td>1040.0</td>\n",
       "      <td>613.0</td>\n",
       "      <td>495.0</td>\n",
       "      <td>310.0</td>\n",
       "    </tr>\n",
       "    <tr>\n",
       "      <th>GENERATED</th>\n",
       "      <td>NaN</td>\n",
       "      <td>2520.0</td>\n",
       "      <td>NaN</td>\n",
       "      <td>NaN</td>\n",
       "      <td>NaN</td>\n",
       "      <td>NaN</td>\n",
       "      <td>NaN</td>\n",
       "      <td>NaN</td>\n",
       "      <td>NaN</td>\n",
       "      <td>NaN</td>\n",
       "    </tr>\n",
       "    <tr>\n",
       "      <th>TYPED</th>\n",
       "      <td>10.0</td>\n",
       "      <td>NaN</td>\n",
       "      <td>70.0</td>\n",
       "      <td>1500.0</td>\n",
       "      <td>144.0</td>\n",
       "      <td>76.0</td>\n",
       "      <td>29.0</td>\n",
       "      <td>2.0</td>\n",
       "      <td>NaN</td>\n",
       "      <td>NaN</td>\n",
       "    </tr>\n",
       "    <tr>\n",
       "      <th>AUTO_BOOKMARK</th>\n",
       "      <td>1482.0</td>\n",
       "      <td>2.0</td>\n",
       "      <td>38.0</td>\n",
       "      <td>NaN</td>\n",
       "      <td>190.0</td>\n",
       "      <td>NaN</td>\n",
       "      <td>NaN</td>\n",
       "      <td>NaN</td>\n",
       "      <td>NaN</td>\n",
       "      <td>170.0</td>\n",
       "    </tr>\n",
       "    <tr>\n",
       "      <th>FORM_SUBMIT</th>\n",
       "      <td>NaN</td>\n",
       "      <td>459.0</td>\n",
       "      <td>403.0</td>\n",
       "      <td>NaN</td>\n",
       "      <td>NaN</td>\n",
       "      <td>1.0</td>\n",
       "      <td>NaN</td>\n",
       "      <td>11.0</td>\n",
       "      <td>1.0</td>\n",
       "      <td>43.0</td>\n",
       "    </tr>\n",
       "    <tr>\n",
       "      <th>AUTO_TOPLEVEL</th>\n",
       "      <td>13.0</td>\n",
       "      <td>NaN</td>\n",
       "      <td>NaN</td>\n",
       "      <td>388.0</td>\n",
       "      <td>NaN</td>\n",
       "      <td>NaN</td>\n",
       "      <td>NaN</td>\n",
       "      <td>2.0</td>\n",
       "      <td>13.0</td>\n",
       "      <td>NaN</td>\n",
       "    </tr>\n",
       "    <tr>\n",
       "      <th>RELOAD</th>\n",
       "      <td>70.0</td>\n",
       "      <td>34.0</td>\n",
       "      <td>9.0</td>\n",
       "      <td>4.0</td>\n",
       "      <td>29.0</td>\n",
       "      <td>3.0</td>\n",
       "      <td>6.0</td>\n",
       "      <td>6.0</td>\n",
       "      <td>98.0</td>\n",
       "      <td>4.0</td>\n",
       "    </tr>\n",
       "  </tbody>\n",
       "</table>\n",
       "</div>"
      ],
      "text/plain": [
       "               youtube  google_search  amazon  newtab  mail.google  linkedin  \\\n",
       "LINK            6359.0          468.0  1591.0     NaN       1097.0    1120.0   \n",
       "GENERATED          NaN         2520.0     NaN     NaN          NaN       NaN   \n",
       "TYPED             10.0            NaN    70.0  1500.0        144.0      76.0   \n",
       "AUTO_BOOKMARK   1482.0            2.0    38.0     NaN        190.0       NaN   \n",
       "FORM_SUBMIT        NaN          459.0   403.0     NaN          NaN       1.0   \n",
       "AUTO_TOPLEVEL     13.0            NaN     NaN   388.0          NaN       NaN   \n",
       "RELOAD            70.0           34.0     9.0     4.0         29.0       3.0   \n",
       "\n",
       "               instacart  google    mfa  dealmoon  \n",
       "LINK              1040.0   613.0  495.0     310.0  \n",
       "GENERATED            NaN     NaN    NaN       NaN  \n",
       "TYPED               29.0     2.0    NaN       NaN  \n",
       "AUTO_BOOKMARK        NaN     NaN    NaN     170.0  \n",
       "FORM_SUBMIT          NaN    11.0    1.0      43.0  \n",
       "AUTO_TOPLEVEL        NaN     2.0   13.0       NaN  \n",
       "RELOAD               6.0     6.0   98.0       4.0  "
      ]
     },
     "execution_count": 16,
     "metadata": {},
     "output_type": "execute_result"
    }
   ],
   "source": [
    "stacked_bar"
   ]
  },
  {
   "cell_type": "code",
   "execution_count": 17,
   "id": "a0a31b8f",
   "metadata": {},
   "outputs": [
    {
     "data": {
      "text/plain": [
       "<AxesSubplot:>"
      ]
     },
     "execution_count": 17,
     "metadata": {},
     "output_type": "execute_result"
    },
    {
     "data": {
      "image/png": "[encoded data removed]",
      "text/plain": [
       "<Figure size 864x432 with 1 Axes>"
      ]
     },
     "metadata": {
      "needs_background": "light"
     },
     "output_type": "display_data"
    }
   ],
   "source": [
    "stacked_bar.T.plot.bar(stacked=True, figsize=(12,6))"
   ]
  },
  {
   "cell_type": "markdown",
   "id": "87558b00",
   "metadata": {},
   "source": [
    "The trend is not consistent in `\"google_search\"` and `\"newtab\"` domains and it is reasonable as I always type in the questions I want to ask in Google Search."
   ]
  },
  {
   "cell_type": "markdown",
   "id": "41344e48",
   "metadata": {},
   "source": [
    "### Investigate Weekday vs. Weekend Browsing Usage"
   ]
  },
  {
   "cell_type": "code",
   "execution_count": 18,
   "id": "ae80dc37",
   "metadata": {},
   "outputs": [],
   "source": [
    "days_arr = [\"Mon\", \"Tue\",  \"Wed\",  \"Thu\", \"Fri\", \"Sat\", \"Sun\"]\n",
    "def get_day_of_week(x):\n",
    "    return days_arr[x.weekday()]\n",
    "\n",
    "def get_month(x):\n",
    "    return x.month\n",
    "\n",
    "def get_year(x):\n",
    "    return x.year\n",
    "\n",
    "def get_day(x):\n",
    "    return x.day\n",
    "\n",
    "def get_hour(x):\n",
    "    return x.hour\n",
    "\n",
    "\n",
    "df[\"year\"] = df[\"Date\"].apply(get_year)\n",
    "df[\"month\"] = df[\"Date\"].apply(get_month)\n",
    "df[\"day\"] = df[\"Date\"].apply(get_day)\n",
    "df[\"day_of_week\"] = df[\"Date\"].apply(get_day_of_week)\n",
    "df[\"hour\"] = df[\"Date\"].apply(get_hour)"
   ]
  },
  {
   "cell_type": "code",
   "execution_count": 20,
   "id": "d6f26946",
   "metadata": {},
   "outputs": [],
   "source": [
    "df[\"weekday\"] = \"Yes\"\n",
    "condition = (df[\"day_of_week\"] == \"Sat\") | (df[\"day_of_week\"] == \"Sun\")\n",
    "df.loc[condition, \"weekday\"] = \"No\""
   ]
  },
  {
   "cell_type": "code",
   "execution_count": 21,
   "id": "e8910c16",
   "metadata": {},
   "outputs": [
    {
     "data": {
      "text/plain": [
       "Yes    0.806978\n",
       "No     0.193022\n",
       "Name: weekday, dtype: float64"
      ]
     },
     "execution_count": 21,
     "metadata": {},
     "output_type": "execute_result"
    }
   ],
   "source": [
    "df[\"weekday\"].value_counts(normalize = True)"
   ]
  },
  {
   "cell_type": "code",
   "execution_count": 22,
   "id": "599b2e51",
   "metadata": {},
   "outputs": [
    {
     "data": {
      "text/plain": [
       "<AxesSubplot:xlabel='hour', ylabel='count'>"
      ]
     },
     "execution_count": 22,
     "metadata": {},
     "output_type": "execute_result"
    },
    {
     "data": {
      "image/png": "[encoded data removed]",
      "text/plain": [
       "<Figure size 432x288 with 1 Axes>"
      ]
     },
     "metadata": {
      "needs_background": "light"
     },
     "output_type": "display_data"
    }
   ],
   "source": [
    "import seaborn as sns\n",
    "sns.countplot(x = 'hour', hue = 'weekday', data=df)"
   ]
  },
  {
   "cell_type": "markdown",
   "id": "7cfe951c",
   "metadata": {},
   "source": [
    "#### Observation:\n",
    "I doubt that this graph is a fair comparison as Weekday is naturally more than Weekends (5 days vs. 2 days). So if we are comparing the browsing usage by looking at \"count\", it is probably not a good idea. It would be better to compare average usage per day of weekday and weekends."
   ]
  },
  {
   "cell_type": "code",
   "execution_count": 23,
   "id": "9abccd57",
   "metadata": {},
   "outputs": [],
   "source": [
    "def refomat_date(x):\n",
    "    return x.strftime('%Y-%m-%d')\n",
    "\n",
    "df[\"Date_2\"] = df[\"Date\"].apply(refomat_date)"
   ]
  },
  {
   "cell_type": "code",
   "execution_count": 25,
   "id": "d9b22245",
   "metadata": {},
   "outputs": [],
   "source": [
    "weekday_cnt = len(df[df[\"weekday\"] == \"Yes\"][\"Date_2\"].unique())\n",
    "weekend_cnt = len(df[df[\"weekday\"] == \"No\"][\"Date_2\"].unique())"
   ]
  },
  {
   "cell_type": "code",
   "execution_count": 26,
   "id": "92326ba1",
   "metadata": {},
   "outputs": [
    {
     "data": {
      "text/plain": [
       "Yes    27710\n",
       "No      6628\n",
       "Name: weekday, dtype: int64"
      ]
     },
     "execution_count": 26,
     "metadata": {},
     "output_type": "execute_result"
    }
   ],
   "source": [
    "df[\"weekday\"].value_counts()"
   ]
  },
  {
   "cell_type": "code",
   "execution_count": 27,
   "id": "c734ff3d",
   "metadata": {},
   "outputs": [
    {
     "data": {
      "text/plain": [
       "253"
      ]
     },
     "execution_count": 27,
     "metadata": {},
     "output_type": "execute_result"
    }
   ],
   "source": [
    "weekday_cnt"
   ]
  },
  {
   "cell_type": "code",
   "execution_count": 29,
   "id": "34a6c7f0",
   "metadata": {},
   "outputs": [
    {
     "data": {
      "text/plain": [
       "105"
      ]
     },
     "execution_count": 29,
     "metadata": {},
     "output_type": "execute_result"
    }
   ],
   "source": [
    "weekend_cnt"
   ]
  },
  {
   "cell_type": "code",
   "execution_count": 31,
   "id": "6fe6b390",
   "metadata": {},
   "outputs": [],
   "source": [
    "data = {'Weekday':['Yes', 'No'],\n",
    "        'Browsing_cnt':[27710, 6628],\n",
    "        'Day_cnt': [253, 105]}\n",
    "df_wk_day = pd.DataFrame(data)"
   ]
  },
  {
   "cell_type": "code",
   "execution_count": 33,
   "id": "93046ca8",
   "metadata": {},
   "outputs": [],
   "source": [
    "df_wk_day['Avg_usage'] = df_wk_day['Browsing_cnt'] / df_wk_day['Day_cnt']"
   ]
  },
  {
   "cell_type": "code",
   "execution_count": 34,
   "id": "4f50249f",
   "metadata": {},
   "outputs": [
    {
     "data": {
      "text/html": [
       "<div>\n",
       "<style scoped>\n",
       "    .dataframe tbody tr th:only-of-type {\n",
       "        vertical-align: middle;\n",
       "    }\n",
       "\n",
       "    .dataframe tbody tr th {\n",
       "        vertical-align: top;\n",
       "    }\n",
       "\n",
       "    .dataframe thead th {\n",
       "        text-align: right;\n",
       "    }\n",
       "</style>\n",
       "<table border=\"1\" class=\"dataframe\">\n",
       "  <thead>\n",
       "    <tr style=\"text-align: right;\">\n",
       "      <th></th>\n",
       "      <th>Weekday</th>\n",
       "      <th>Browsing_cnt</th>\n",
       "      <th>Day_cnt</th>\n",
       "      <th>Avg_usage</th>\n",
       "    </tr>\n",
       "  </thead>\n",
       "  <tbody>\n",
       "    <tr>\n",
       "      <th>0</th>\n",
       "      <td>Yes</td>\n",
       "      <td>27710</td>\n",
       "      <td>253</td>\n",
       "      <td>109.525692</td>\n",
       "    </tr>\n",
       "    <tr>\n",
       "      <th>1</th>\n",
       "      <td>No</td>\n",
       "      <td>6628</td>\n",
       "      <td>105</td>\n",
       "      <td>63.123810</td>\n",
       "    </tr>\n",
       "  </tbody>\n",
       "</table>\n",
       "</div>"
      ],
      "text/plain": [
       "  Weekday  Browsing_cnt  Day_cnt   Avg_usage\n",
       "0     Yes         27710      253  109.525692\n",
       "1      No          6628      105   63.123810"
      ]
     },
     "execution_count": 34,
     "metadata": {},
     "output_type": "execute_result"
    }
   ],
   "source": [
    "df_wk_day"
   ]
  },
  {
   "cell_type": "markdown",
   "id": "467588e9",
   "metadata": {},
   "source": [
    "### Investigate More on Usage by day of week and hour\n",
    "\n",
    "I will create a heatmap with one axis to be `\"day_of_week\"` and another to be `\"hour\"`."
   ]
  },
  {
   "cell_type": "code",
   "execution_count": 45,
   "id": "52f56ad6",
   "metadata": {},
   "outputs": [],
   "source": [
    "df_heat = df.groupby([\"hour\", \"day_of_week\"])[\"Domain\"].size().reset_index()"
   ]
  },
  {
   "cell_type": "code",
   "execution_count": 48,
   "id": "fdfa78e0",
   "metadata": {},
   "outputs": [],
   "source": [
    "df_heat2 = df_heat.pivot(\"hour\", \"day_of_week\", \"Domain\")"
   ]
  },
  {
   "cell_type": "code",
   "execution_count": 53,
   "id": "c5aefe1c",
   "metadata": {},
   "outputs": [
    {
     "data": {
      "text/plain": [
       "<AxesSubplot:xlabel='day_of_week', ylabel='hour'>"
      ]
     },
     "execution_count": 53,
     "metadata": {},
     "output_type": "execute_result"
    },
    {
     "data": {
      "image/png": "[encoded data removed]",
      "text/plain": [
       "<Figure size 432x288 with 2 Axes>"
      ]
     },
     "metadata": {
      "needs_background": "light"
     },
     "output_type": "display_data"
    }
   ],
   "source": [
    "sns.heatmap(df_heat2[days_arr] , cmap=\"YlGnBu\")"
   ]
  },
  {
   "cell_type": "markdown",
   "id": "df24d9b0",
   "metadata": {},
   "source": [
    "#### Observation:\n",
    "\n",
    "Majority usage concentrated from 9am to 6pm. Apparently weekends usage is much lighter than weekdays, and the start time on weekends usually afternoon."
   ]
  }
 ],
 "metadata": {
  "kernelspec": {
   "display_name": "Python 3",
   "language": "python",
   "name": "python3"
  },
  "language_info": {
   "codemirror_mode": {
    "name": "ipython",
    "version": 3
   },
   "file_extension": ".py",
   "mimetype": "text/x-python",
   "name": "python",
   "nbconvert_exporter": "python",
   "pygments_lexer": "ipython3",
   "version": "3.8.2"
  }
 },
 "nbformat": 4,
 "nbformat_minor": 5
}
